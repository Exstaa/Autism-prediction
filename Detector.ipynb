{
 "cells": [
  {
   "cell_type": "code",
   "execution_count": 144,
   "id": "f6da9237-67ed-4eb1-88b8-f124dfe16256",
   "metadata": {},
   "outputs": [],
   "source": [
    "import pandas as pd\n",
    "import numpy as np\n",
    "from sklearn.model_selection import train_test_split\n",
    "from sklearn.linear_model import LogisticRegression\n",
    "from sklearn.metrics import accuracy_score\n",
    "\n",
    "autism_data = pd.read_csv(\"dataset.csv\")\n",
    "autism_data.head()\n",
    "autism_data = autism_data.drop(columns=\"relation\", axis=1)"
   ]
  },
  {
   "cell_type": "code",
   "execution_count": 145,
   "id": "bdc074fd-3839-4e10-8837-c3a3be383400",
   "metadata": {},
   "outputs": [
    {
     "name": "stdout",
     "output_type": "stream",
     "text": [
      "[ 9  7 10 18 24 19  0 45 12 16  1 14 13 17 21 26 27 32 20 39 34 37  3 11\n",
      "  4 22 31 15 28  2 41 29  5 23  8  6 38 43 25 30 40 44 42 36 33 35]\n"
     ]
    }
   ],
   "source": [
    "from sklearn.preprocessing import LabelEncoder\n",
    "\n",
    "autism_data.isnull().sum()\n",
    "autism_data = autism_data.replace({'yes':1, 'no':0, '?':'Others', 'others':'Others', 'YES':1, 'NO':0})\n",
    "autism_data = autism_data.dropna()\n",
    "\n",
    "categorical_columns = ['gender', 'age', 'ethnicity', 'jundice', 'austim', 'contry_of_res', 'used_app_before']\n",
    "\n",
    "for column in categorical_columns:\n",
    "    if column in autism_data.columns:\n",
    "        autism_data[column] = autism_data[column].astype(str)\n",
    "\n",
    "categorical_columns = [col for col in categorical_columns if col in autism_data.columns]\n",
    "\n",
    "for column in categorical_columns:\n",
    "    autism_data[column] = label_encoder.fit_transform(autism_data[column])\n",
    "\n",
    "age_mapping = {\n",
    "    '0-2': 1,\n",
    "    '4-11': 2,\n",
    "    '12-16': 3,\n",
    "    '17-20': 4,\n",
    "    '20-24': 5,\n",
    "    '25-30': 6,\n",
    "    '30-39': 7,\n",
    "    '40-49': 8,\n",
    "    '50-59': 9,\n",
    "    '60-69': 10,\n",
    "    '70-79': 11,\n",
    "    '80-89': 12,\n",
    "    '90-99': 13,\n",
    "    '18 and more': 14\n",
    "}\n",
    "\n",
    "autism_data['age_desc'] = autism_data['age_desc'].map(age_mapping)\n",
    "\n",
    "print(autism_data['age'].unique())\n"
   ]
  },
  {
   "cell_type": "code",
   "execution_count": 146,
   "id": "56930aa1-8878-4a60-8354-351e744cc213",
   "metadata": {},
   "outputs": [],
   "source": [
    "X = autism_data.drop(columns=\"Class/ASD\", axis =1)\n",
    "y = autism_data[\"Class/ASD\"]"
   ]
  },
  {
   "cell_type": "code",
   "execution_count": 147,
   "id": "0aa73b61-7291-490c-8439-d13bf522183c",
   "metadata": {},
   "outputs": [],
   "source": [
    "X_train, X_test, y_train, y_test = train_test_split(X,y,test_size=0.2, random_state=2)"
   ]
  },
  {
   "cell_type": "code",
   "execution_count": 148,
   "id": "675d12a0-a3d7-47a6-a8d7-e7e417cdea4c",
   "metadata": {},
   "outputs": [
    {
     "data": {
      "text/plain": [
       "(141, 19)"
      ]
     },
     "execution_count": 148,
     "metadata": {},
     "output_type": "execute_result"
    }
   ],
   "source": [
    "X_test.shape"
   ]
  },
  {
   "cell_type": "code",
   "execution_count": 149,
   "id": "5faef48f-0ba8-4a70-afca-bf408b6c4594",
   "metadata": {},
   "outputs": [
    {
     "data": {
      "text/plain": [
       "(141,)"
      ]
     },
     "execution_count": 149,
     "metadata": {},
     "output_type": "execute_result"
    }
   ],
   "source": [
    "y_test.shape"
   ]
  },
  {
   "cell_type": "code",
   "execution_count": 150,
   "id": "b5f61ab2-ce80-492d-a3ff-5b31a09c53eb",
   "metadata": {},
   "outputs": [
    {
     "name": "stdout",
     "output_type": "stream",
     "text": [
      "Accuracy: 1.0\n"
     ]
    },
    {
     "name": "stderr",
     "output_type": "stream",
     "text": [
      "C:\\Users\\user\\anaconda3\\Lib\\site-packages\\sklearn\\linear_model\\_logistic.py:458: ConvergenceWarning: lbfgs failed to converge (status=1):\n",
      "STOP: TOTAL NO. of ITERATIONS REACHED LIMIT.\n",
      "\n",
      "Increase the number of iterations (max_iter) or scale the data as shown in:\n",
      "    https://scikit-learn.org/stable/modules/preprocessing.html\n",
      "Please also refer to the documentation for alternative solver options:\n",
      "    https://scikit-learn.org/stable/modules/linear_model.html#logistic-regression\n",
      "  n_iter_i = _check_optimize_result(\n"
     ]
    }
   ],
   "source": [
    "lr = LogisticRegression()\n",
    "lr.fit(X_train, y_train)\n",
    "\n",
    "y_pred_lr = lr.predict(X_test)\n",
    "accuracy_lr = accuracy_score(y_test, y_pred_lr)\n",
    "print('Accuracy:', accuracy_lr)"
   ]
  },
  {
   "cell_type": "raw",
   "id": "87820467-d1ea-461f-a96e-647878559a7e",
   "metadata": {},
   "source": []
  }
 ],
 "metadata": {
  "kernelspec": {
   "display_name": "Python 3 (ipykernel)",
   "language": "python",
   "name": "python3"
  },
  "language_info": {
   "codemirror_mode": {
    "name": "ipython",
    "version": 3
   },
   "file_extension": ".py",
   "mimetype": "text/x-python",
   "name": "python",
   "nbconvert_exporter": "python",
   "pygments_lexer": "ipython3",
   "version": "3.11.7"
  }
 },
 "nbformat": 4,
 "nbformat_minor": 5
}
